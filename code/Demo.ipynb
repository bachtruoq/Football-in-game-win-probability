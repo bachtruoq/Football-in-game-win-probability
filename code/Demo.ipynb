{
  "nbformat": 4,
  "nbformat_minor": 0,
  "metadata": {
    "colab": {
      "provenance": []
    },
    "kernelspec": {
      "name": "python3",
      "display_name": "Python 3"
    },
    "language_info": {
      "name": "python"
    }
  },
  "cells": [
    {
      "cell_type": "code",
      "source": [
        "import sys\n",
        "import warnings\n",
        "warnings.filterwarnings('ignore')\n",
        "import joblib\n",
        "import copy\n",
        "import pandas as pd\n",
        "import numpy as np\n",
        "import seaborn as sns\n",
        "import matplotlib as mpl\n",
        "import matplotlib.pyplot as plt\n",
        "import time\n",
        "import os\n",
        "\n",
        "PRJ_DIR = os.path.abspath('')\n",
        "\n",
        "np.random.seed(42)"
      ],
      "metadata": {
        "id": "D5uU5KLoPlfT"
      },
      "execution_count": 1,
      "outputs": []
    },
    {
      "cell_type": "code",
      "source": [
        "os.path.join(PRJ_DIR, 'model', 'best_model.pkl')"
      ],
      "metadata": {
        "colab": {
          "base_uri": "https://localhost:8080/",
          "height": 35
        },
        "id": "cDjwO6-bRGRq",
        "outputId": "77e6d82d-e5df-4a92-95a8-53dd5968a981"
      },
      "execution_count": 8,
      "outputs": [
        {
          "output_type": "execute_result",
          "data": {
            "text/plain": [
              "'/content/model/best_model.pkl'"
            ],
            "application/vnd.google.colaboratory.intrinsic+json": {
              "type": "string"
            }
          },
          "metadata": {},
          "execution_count": 8
        }
      ]
    },
    {
      "cell_type": "code",
      "execution_count": 4,
      "metadata": {
        "id": "rrxQW_KCPRIZ"
      },
      "outputs": [],
      "source": [
        "def load_model(path, name):\n",
        "    print(\"Loaded model\", name)\n",
        "    return joblib.load(path)"
      ]
    },
    {
      "cell_type": "code",
      "source": [
        "model = load_model('/content/model/XGBoost.pkl', 'best model')\n",
        "model"
      ],
      "metadata": {
        "colab": {
          "base_uri": "https://localhost:8080/",
          "height": 268
        },
        "id": "90EBqSoqPop7",
        "outputId": "3c83ac1f-f841-4a4b-d511-15accb62bde9"
      },
      "execution_count": 17,
      "outputs": [
        {
          "output_type": "stream",
          "name": "stdout",
          "text": [
            "Loaded model best model\n"
          ]
        },
        {
          "output_type": "execute_result",
          "data": {
            "text/plain": [
              "XGBClassifier(base_score=None, booster=None, callbacks=None,\n",
              "              colsample_bylevel=None, colsample_bynode=None,\n",
              "              colsample_bytree=0.8989993816337891, device=None,\n",
              "              early_stopping_rounds=None, enable_categorical=False,\n",
              "              eval_metric=None, feature_types=None, gamma=None,\n",
              "              grow_policy=None, importance_type=None,\n",
              "              interaction_constraints=None, learning_rate=0.08475011260347456,\n",
              "              max_bin=None, max_cat_threshold=None, max_cat_to_onehot=None,\n",
              "              max_delta_step=None, max_depth=3, max_leaves=None,\n",
              "              min_child_weight=None, missing=nan, monotone_constraints=None,\n",
              "              multi_strategy=None, n_estimators=100, n_jobs=None, num_class=3,\n",
              "              num_parallel_tree=None, ...)"
            ],
            "text/html": [
              "<style>#sk-container-id-2 {color: black;background-color: white;}#sk-container-id-2 pre{padding: 0;}#sk-container-id-2 div.sk-toggleable {background-color: white;}#sk-container-id-2 label.sk-toggleable__label {cursor: pointer;display: block;width: 100%;margin-bottom: 0;padding: 0.3em;box-sizing: border-box;text-align: center;}#sk-container-id-2 label.sk-toggleable__label-arrow:before {content: \"▸\";float: left;margin-right: 0.25em;color: #696969;}#sk-container-id-2 label.sk-toggleable__label-arrow:hover:before {color: black;}#sk-container-id-2 div.sk-estimator:hover label.sk-toggleable__label-arrow:before {color: black;}#sk-container-id-2 div.sk-toggleable__content {max-height: 0;max-width: 0;overflow: hidden;text-align: left;background-color: #f0f8ff;}#sk-container-id-2 div.sk-toggleable__content pre {margin: 0.2em;color: black;border-radius: 0.25em;background-color: #f0f8ff;}#sk-container-id-2 input.sk-toggleable__control:checked~div.sk-toggleable__content {max-height: 200px;max-width: 100%;overflow: auto;}#sk-container-id-2 input.sk-toggleable__control:checked~label.sk-toggleable__label-arrow:before {content: \"▾\";}#sk-container-id-2 div.sk-estimator input.sk-toggleable__control:checked~label.sk-toggleable__label {background-color: #d4ebff;}#sk-container-id-2 div.sk-label input.sk-toggleable__control:checked~label.sk-toggleable__label {background-color: #d4ebff;}#sk-container-id-2 input.sk-hidden--visually {border: 0;clip: rect(1px 1px 1px 1px);clip: rect(1px, 1px, 1px, 1px);height: 1px;margin: -1px;overflow: hidden;padding: 0;position: absolute;width: 1px;}#sk-container-id-2 div.sk-estimator {font-family: monospace;background-color: #f0f8ff;border: 1px dotted black;border-radius: 0.25em;box-sizing: border-box;margin-bottom: 0.5em;}#sk-container-id-2 div.sk-estimator:hover {background-color: #d4ebff;}#sk-container-id-2 div.sk-parallel-item::after {content: \"\";width: 100%;border-bottom: 1px solid gray;flex-grow: 1;}#sk-container-id-2 div.sk-label:hover label.sk-toggleable__label {background-color: #d4ebff;}#sk-container-id-2 div.sk-serial::before {content: \"\";position: absolute;border-left: 1px solid gray;box-sizing: border-box;top: 0;bottom: 0;left: 50%;z-index: 0;}#sk-container-id-2 div.sk-serial {display: flex;flex-direction: column;align-items: center;background-color: white;padding-right: 0.2em;padding-left: 0.2em;position: relative;}#sk-container-id-2 div.sk-item {position: relative;z-index: 1;}#sk-container-id-2 div.sk-parallel {display: flex;align-items: stretch;justify-content: center;background-color: white;position: relative;}#sk-container-id-2 div.sk-item::before, #sk-container-id-2 div.sk-parallel-item::before {content: \"\";position: absolute;border-left: 1px solid gray;box-sizing: border-box;top: 0;bottom: 0;left: 50%;z-index: -1;}#sk-container-id-2 div.sk-parallel-item {display: flex;flex-direction: column;z-index: 1;position: relative;background-color: white;}#sk-container-id-2 div.sk-parallel-item:first-child::after {align-self: flex-end;width: 50%;}#sk-container-id-2 div.sk-parallel-item:last-child::after {align-self: flex-start;width: 50%;}#sk-container-id-2 div.sk-parallel-item:only-child::after {width: 0;}#sk-container-id-2 div.sk-dashed-wrapped {border: 1px dashed gray;margin: 0 0.4em 0.5em 0.4em;box-sizing: border-box;padding-bottom: 0.4em;background-color: white;}#sk-container-id-2 div.sk-label label {font-family: monospace;font-weight: bold;display: inline-block;line-height: 1.2em;}#sk-container-id-2 div.sk-label-container {text-align: center;}#sk-container-id-2 div.sk-container {/* jupyter's `normalize.less` sets `[hidden] { display: none; }` but bootstrap.min.css set `[hidden] { display: none !important; }` so we also need the `!important` here to be able to override the default hidden behavior on the sphinx rendered scikit-learn.org. See: https://github.com/scikit-learn/scikit-learn/issues/21755 */display: inline-block !important;position: relative;}#sk-container-id-2 div.sk-text-repr-fallback {display: none;}</style><div id=\"sk-container-id-2\" class=\"sk-top-container\"><div class=\"sk-text-repr-fallback\"><pre>XGBClassifier(base_score=None, booster=None, callbacks=None,\n",
              "              colsample_bylevel=None, colsample_bynode=None,\n",
              "              colsample_bytree=0.8989993816337891, device=None,\n",
              "              early_stopping_rounds=None, enable_categorical=False,\n",
              "              eval_metric=None, feature_types=None, gamma=None,\n",
              "              grow_policy=None, importance_type=None,\n",
              "              interaction_constraints=None, learning_rate=0.08475011260347456,\n",
              "              max_bin=None, max_cat_threshold=None, max_cat_to_onehot=None,\n",
              "              max_delta_step=None, max_depth=3, max_leaves=None,\n",
              "              min_child_weight=None, missing=nan, monotone_constraints=None,\n",
              "              multi_strategy=None, n_estimators=100, n_jobs=None, num_class=3,\n",
              "              num_parallel_tree=None, ...)</pre><b>In a Jupyter environment, please rerun this cell to show the HTML representation or trust the notebook. <br />On GitHub, the HTML representation is unable to render, please try loading this page with nbviewer.org.</b></div><div class=\"sk-container\" hidden><div class=\"sk-item\"><div class=\"sk-estimator sk-toggleable\"><input class=\"sk-toggleable__control sk-hidden--visually\" id=\"sk-estimator-id-2\" type=\"checkbox\" checked><label for=\"sk-estimator-id-2\" class=\"sk-toggleable__label sk-toggleable__label-arrow\">XGBClassifier</label><div class=\"sk-toggleable__content\"><pre>XGBClassifier(base_score=None, booster=None, callbacks=None,\n",
              "              colsample_bylevel=None, colsample_bynode=None,\n",
              "              colsample_bytree=0.8989993816337891, device=None,\n",
              "              early_stopping_rounds=None, enable_categorical=False,\n",
              "              eval_metric=None, feature_types=None, gamma=None,\n",
              "              grow_policy=None, importance_type=None,\n",
              "              interaction_constraints=None, learning_rate=0.08475011260347456,\n",
              "              max_bin=None, max_cat_threshold=None, max_cat_to_onehot=None,\n",
              "              max_delta_step=None, max_depth=3, max_leaves=None,\n",
              "              min_child_weight=None, missing=nan, monotone_constraints=None,\n",
              "              multi_strategy=None, n_estimators=100, n_jobs=None, num_class=3,\n",
              "              num_parallel_tree=None, ...)</pre></div></div></div></div></div>"
            ]
          },
          "metadata": {},
          "execution_count": 17
        }
      ]
    },
    {
      "cell_type": "code",
      "source": [
        "ex_data = pd.read_csv('/content/1549625.csv')\n",
        "x = ex_data.drop(['result'], axis = 1)\n",
        "x = x.values"
      ],
      "metadata": {
        "id": "Rem7sgXaQgmt"
      },
      "execution_count": 18,
      "outputs": []
    },
    {
      "cell_type": "code",
      "source": [
        "probs = model.predict_proba(x)\n",
        "probs"
      ],
      "metadata": {
        "colab": {
          "base_uri": "https://localhost:8080/"
        },
        "id": "L7bFCATXRliq",
        "outputId": "4f76fb70-7450-4974-9d2a-e7e086492c61"
      },
      "execution_count": 19,
      "outputs": [
        {
          "output_type": "execute_result",
          "data": {
            "text/plain": [
              "array([[0.05614319, 0.1515873 , 0.79226947],\n",
              "       [0.14157632, 0.22846426, 0.62995946],\n",
              "       [0.13023163, 0.22683746, 0.6429309 ],\n",
              "       [0.13740924, 0.22496553, 0.6376253 ],\n",
              "       [0.1568093 , 0.15615258, 0.68703806],\n",
              "       [0.1568093 , 0.15615258, 0.68703806],\n",
              "       [0.1568093 , 0.15615258, 0.68703806],\n",
              "       [0.1678004 , 0.1541171 , 0.67808247],\n",
              "       [0.1858788 , 0.15076913, 0.6633521 ],\n",
              "       [0.18120936, 0.15163387, 0.6671568 ],\n",
              "       [0.15739177, 0.5301098 , 0.31249845],\n",
              "       [0.15739177, 0.5301098 , 0.31249845],\n",
              "       [0.15739177, 0.5301098 , 0.31249845],\n",
              "       [0.16048868, 0.5075216 , 0.33198965],\n",
              "       [0.16048868, 0.5075216 , 0.33198965],\n",
              "       [0.16048868, 0.5075216 , 0.33198965],\n",
              "       [0.16048868, 0.5075216 , 0.33198965],\n",
              "       [0.16048868, 0.5075216 , 0.33198965],\n",
              "       [0.16048868, 0.5075216 , 0.33198965],\n",
              "       [0.16048868, 0.5075216 , 0.33198965],\n",
              "       [0.16048868, 0.5075216 , 0.33198965],\n",
              "       [0.15739177, 0.5301098 , 0.31249845],\n",
              "       [0.16048868, 0.5075216 , 0.33198965],\n",
              "       [0.16048868, 0.5075216 , 0.33198965],\n",
              "       [0.16048868, 0.5075216 , 0.33198965],\n",
              "       [0.16048868, 0.5075216 , 0.33198965],\n",
              "       [0.16048868, 0.5075216 , 0.33198965],\n",
              "       [0.16048868, 0.5075216 , 0.33198965],\n",
              "       [0.16048868, 0.5075216 , 0.33198965],\n",
              "       [0.16048868, 0.5075216 , 0.33198965],\n",
              "       [0.14628974, 0.51610553, 0.33760473],\n",
              "       [0.14628974, 0.51610553, 0.33760473],\n",
              "       [0.14628974, 0.51610553, 0.33760473],\n",
              "       [0.14628974, 0.51610553, 0.33760473],\n",
              "       [0.14628974, 0.51610553, 0.33760473],\n",
              "       [0.14628974, 0.51610553, 0.33760473],\n",
              "       [0.14628974, 0.51610553, 0.33760473],\n",
              "       [0.14628974, 0.51610553, 0.33760473],\n",
              "       [0.14628974, 0.51610553, 0.33760473],\n",
              "       [0.14628974, 0.51610553, 0.33760473],\n",
              "       [0.14628974, 0.51610553, 0.33760473],\n",
              "       [0.14628974, 0.51610553, 0.33760473],\n",
              "       [0.14628974, 0.51610553, 0.33760473],\n",
              "       [0.14628974, 0.51610553, 0.33760473],\n",
              "       [0.14628974, 0.51610553, 0.33760473],\n",
              "       [0.14628974, 0.51610553, 0.33760473],\n",
              "       [0.14628974, 0.51610553, 0.33760473],\n",
              "       [0.14628974, 0.51610553, 0.33760473],\n",
              "       [0.14628974, 0.51610553, 0.33760473],\n",
              "       [0.14628974, 0.51610553, 0.33760473],\n",
              "       [0.14628974, 0.51610553, 0.33760473],\n",
              "       [0.14628974, 0.51610553, 0.33760473],\n",
              "       [0.12904489, 0.4936112 , 0.37734392],\n",
              "       [0.12904489, 0.4936112 , 0.37734392],\n",
              "       [0.12904489, 0.4936112 , 0.37734392],\n",
              "       [0.12904489, 0.4936112 , 0.37734392],\n",
              "       [0.12904489, 0.4936112 , 0.37734392],\n",
              "       [0.12904489, 0.4936112 , 0.37734392],\n",
              "       [0.12904489, 0.4936112 , 0.37734392],\n",
              "       [0.12904489, 0.4936112 , 0.37734392],\n",
              "       [0.12904489, 0.4936112 , 0.37734392],\n",
              "       [0.12904489, 0.4936112 , 0.37734392],\n",
              "       [0.12904489, 0.4936112 , 0.37734392],\n",
              "       [0.12904489, 0.4936112 , 0.37734392],\n",
              "       [0.12904489, 0.4936112 , 0.37734392],\n",
              "       [0.12904489, 0.4936112 , 0.37734392],\n",
              "       [0.12904489, 0.4936112 , 0.37734392],\n",
              "       [0.14628974, 0.51610553, 0.33760473],\n",
              "       [0.14628974, 0.51610553, 0.33760473],\n",
              "       [0.14628974, 0.51610553, 0.33760473],\n",
              "       [0.14628974, 0.51610553, 0.33760473],\n",
              "       [0.14628974, 0.51610553, 0.33760473],\n",
              "       [0.14628974, 0.51610553, 0.33760473],\n",
              "       [0.14628974, 0.51610553, 0.33760473],\n",
              "       [0.14628974, 0.51610553, 0.33760473],\n",
              "       [0.14628974, 0.51610553, 0.33760473],\n",
              "       [0.14628974, 0.51610553, 0.33760473],\n",
              "       [0.14628974, 0.51610553, 0.33760473],\n",
              "       [0.14628974, 0.51610553, 0.33760473],\n",
              "       [0.14628974, 0.51610553, 0.33760473],\n",
              "       [0.14628974, 0.51610553, 0.33760473],\n",
              "       [0.17171621, 0.50186294, 0.32642087],\n",
              "       [0.17171621, 0.50186294, 0.32642087],\n",
              "       [0.17171621, 0.50186294, 0.32642087],\n",
              "       [0.17171621, 0.50186294, 0.32642087],\n",
              "       [0.17171621, 0.50186294, 0.32642087],\n",
              "       [0.17171621, 0.50186294, 0.32642087],\n",
              "       [0.17171621, 0.50186294, 0.32642087],\n",
              "       [0.17476092, 0.5000181 , 0.32522094],\n",
              "       [0.17476092, 0.5000181 , 0.32522094],\n",
              "       [0.17476092, 0.5000181 , 0.32522094],\n",
              "       [0.17476092, 0.5000181 , 0.32522094],\n",
              "       [0.17476092, 0.5000181 , 0.32522094],\n",
              "       [0.17476092, 0.5000181 , 0.32522094],\n",
              "       [0.17476092, 0.5000181 , 0.32522094],\n",
              "       [0.17476092, 0.5000181 , 0.32522094],\n",
              "       [0.15081614, 0.10399701, 0.74518687],\n",
              "       [0.15081614, 0.10399701, 0.74518687],\n",
              "       [0.15081614, 0.10399701, 0.74518687]], dtype=float32)"
            ]
          },
          "metadata": {},
          "execution_count": 19
        }
      ]
    },
    {
      "cell_type": "code",
      "source": [
        "plt.figure(figsize=(8, 6))\n",
        "plt.stackplot(range(len(probs)), probs.T, labels=['W', 'D', 'L'])\n",
        "plt.title('Win Probability')\n",
        "plt.xlabel('Time')\n",
        "plt.ylabel('Percentage')\n",
        "plt.legend()\n",
        "plt.show()"
      ],
      "metadata": {
        "colab": {
          "base_uri": "https://localhost:8080/",
          "height": 564
        },
        "id": "4IEA6NCZRuCx",
        "outputId": "2cd36c13-0fdb-4157-e010-ee2552bb90f4"
      },
      "execution_count": 20,
      "outputs": [
        {
          "output_type": "display_data",
          "data": {
            "text/plain": [
              "<Figure size 800x600 with 1 Axes>"
            ],
            "image/png": "[encoded data removed]"
          },
          "metadata": {}
        }
      ]
    },
    {
      "cell_type": "code",
      "source": [],
      "metadata": {
        "id": "rbRbKnhySGkF"
      },
      "execution_count": null,
      "outputs": []
    }
  ]
}
{
  "nbformat": 4,
  "nbformat_minor": 0,
  "metadata": {
    "colab": {
      "provenance": []
    },
    "kernelspec": {
      "name": "python3",
      "display_name": "Python 3"
    },
    "language_info": {
      "name": "python"
    }
  },
  "cells": [
    {
      "cell_type": "code",
      "source": [
        "import sys\n",
        "import warnings\n",
        "warnings.filterwarnings('ignore')\n",
        "import joblib\n",
        "import pandas as pd\n",
        "import seaborn as sns\n",
        "import matplotlib as mpl\n",
        "import matplotlib.pyplot as plt\n",
        "import os\n",
        "\n",
        "PRJ_DIR = os.path.dirname(os.path.abspath(''))\n",
        "\n",
        "np.random.seed(42)"
      ],
      "metadata": {
        "id": "D5uU5KLoPlfT"
      },
      "execution_count": null,
      "outputs": []
    },
    {
      "cell_type": "code",
      "source": [
        "model_path = os.path.join(PRJ_DIR, 'code', 'model', 'demo_model.pkl')"
      ],
      "metadata": {
        "id": "cDjwO6-bRGRq"
      },
      "execution_count": null,
      "outputs": []
    },
    {
      "cell_type": "code",
      "execution_count": null,
      "metadata": {
        "id": "rrxQW_KCPRIZ"
      },
      "outputs": [],
      "source": [
        "def load_model(path):\n",
        "    return joblib.load(path)"
      ]
    },
    {
      "cell_type": "code",
      "source": [
        "model = load_model(model_path)"
      ],
      "metadata": {
        "id": "90EBqSoqPop7"
      },
      "execution_count": null,
      "outputs": []
    },
    {
      "cell_type": "code",
      "source": [
        "ex_data = pd.read_csv(os.path.join(PRJ_DIR, 'data', 'demo', '1729302.csv')\n",
        "x = ex_data.drop(['result'], axis = 1)\n",
        "x = x.values"
      ],
      "metadata": {
        "id": "Rem7sgXaQgmt"
      },
      "execution_count": null,
      "outputs": []
    },
    {
      "cell_type": "code",
      "source": [
        "probs = model.predict_proba(x)\n",
        "probs"
      ],
      "metadata": {
        "colab": {
          "base_uri": "https://localhost:8080/"
        },
        "id": "L7bFCATXRliq",
        "outputId": "bcccf48f-dee3-4d52-ffa0-38f4900585cc"
      },
      "execution_count": null,
      "outputs": [
        {
          "output_type": "execute_result",
          "data": {
            "text/plain": [
              "array([[0.09791457, 0.13713264, 0.7649527 ],\n",
              "       [0.142209  , 0.27005515, 0.58773583],\n",
              "       [0.17166802, 0.24872896, 0.579603  ],\n",
              "       [0.19755983, 0.1816029 , 0.6208373 ],\n",
              "       [0.16374534, 0.29212362, 0.54413104],\n",
              "       [0.17758283, 0.23230374, 0.5901134 ],\n",
              "       [0.16374534, 0.29212362, 0.54413104],\n",
              "       [0.16374534, 0.29212362, 0.54413104],\n",
              "       [0.16687655, 0.27858734, 0.5545361 ],\n",
              "       [0.16687655, 0.27858734, 0.5545361 ],\n",
              "       [0.16687655, 0.27858734, 0.5545361 ],\n",
              "       [0.16687655, 0.27858734, 0.5545361 ],\n",
              "       [0.16687655, 0.27858734, 0.5545361 ],\n",
              "       [0.15342885, 0.27801758, 0.56855357],\n",
              "       [0.15342885, 0.27801758, 0.56855357],\n",
              "       [0.15342885, 0.27801758, 0.56855357],\n",
              "       [0.15342885, 0.27801758, 0.56855357],\n",
              "       [0.15342885, 0.27801758, 0.56855357],\n",
              "       [0.15342885, 0.27801758, 0.56855357],\n",
              "       [0.15342885, 0.27801758, 0.56855357],\n",
              "       [0.15534161, 0.26901677, 0.5756416 ],\n",
              "       [0.15534161, 0.26901677, 0.5756416 ],\n",
              "       [0.15534161, 0.26901677, 0.5756416 ],\n",
              "       [0.15534161, 0.26901677, 0.5756416 ],\n",
              "       [0.15534161, 0.26901677, 0.5756416 ],\n",
              "       [0.15534161, 0.26901677, 0.5756416 ],\n",
              "       [0.15534161, 0.26901677, 0.5756416 ],\n",
              "       [0.15534161, 0.26901677, 0.5756416 ],\n",
              "       [0.15534161, 0.26901677, 0.5756416 ],\n",
              "       [0.15534161, 0.26901677, 0.5756416 ],\n",
              "       [0.15342885, 0.27801758, 0.56855357],\n",
              "       [0.15342885, 0.27801758, 0.56855357],\n",
              "       [0.15342885, 0.27801758, 0.56855357],\n",
              "       [0.15342885, 0.27801758, 0.56855357],\n",
              "       [0.15342885, 0.27801758, 0.56855357],\n",
              "       [0.15342885, 0.27801758, 0.56855357],\n",
              "       [0.07064004, 0.08249599, 0.846864  ],\n",
              "       [0.07064004, 0.08249599, 0.846864  ],\n",
              "       [0.07047801, 0.08460036, 0.8449216 ],\n",
              "       [0.0745191 , 0.09085602, 0.8346249 ],\n",
              "       [0.0745191 , 0.09085602, 0.8346249 ],\n",
              "       [0.07279941, 0.08738691, 0.83981365],\n",
              "       [0.07279941, 0.08738691, 0.83981365],\n",
              "       [0.08042859, 0.0867281 , 0.83284336],\n",
              "       [0.08042859, 0.0867281 , 0.83284336],\n",
              "       [0.08042859, 0.0867281 , 0.83284336],\n",
              "       [0.05492898, 0.05591511, 0.8891559 ],\n",
              "       [0.07052179, 0.07178781, 0.85769033],\n",
              "       [0.06676546, 0.06796406, 0.8652705 ],\n",
              "       [0.06676546, 0.06796406, 0.8652705 ],\n",
              "       [0.20526555, 0.28460965, 0.51012474],\n",
              "       [0.20526555, 0.28460965, 0.51012474],\n",
              "       [0.21364577, 0.28621858, 0.50013566],\n",
              "       [0.19210452, 0.26478675, 0.54310876],\n",
              "       [0.19210452, 0.26478675, 0.54310876],\n",
              "       [0.19210452, 0.26478675, 0.54310876],\n",
              "       [0.20020674, 0.26662895, 0.53316426],\n",
              "       [0.19726874, 0.2626234 , 0.54010785],\n",
              "       [0.21421324, 0.2570798 , 0.52870697],\n",
              "       [0.17673083, 0.38469377, 0.43857545],\n",
              "       [0.12884271, 0.5281269 , 0.3430304 ],\n",
              "       [0.12884271, 0.5281269 , 0.3430304 ],\n",
              "       [0.12884271, 0.5281269 , 0.3430304 ],\n",
              "       [0.12884271, 0.5281269 , 0.3430304 ],\n",
              "       [0.12884271, 0.5281269 , 0.3430304 ],\n",
              "       [0.12884271, 0.5281269 , 0.3430304 ],\n",
              "       [0.1212705 , 0.5558593 , 0.32287014],\n",
              "       [0.1212705 , 0.5558593 , 0.32287014],\n",
              "       [0.14811209, 0.54830545, 0.30358252],\n",
              "       [0.12899269, 0.5652302 , 0.30577707],\n",
              "       [0.12899269, 0.5652302 , 0.30577707],\n",
              "       [0.12899269, 0.5652302 , 0.30577707],\n",
              "       [0.12899269, 0.5652302 , 0.30577707],\n",
              "       [0.12899269, 0.5652302 , 0.30577707],\n",
              "       [0.12899269, 0.5652302 , 0.30577707],\n",
              "       [0.12899269, 0.5652302 , 0.30577707],\n",
              "       [0.12899269, 0.5652302 , 0.30577707],\n",
              "       [0.12899269, 0.5652302 , 0.30577707],\n",
              "       [0.12899269, 0.5652302 , 0.30577707],\n",
              "       [0.12899269, 0.5652302 , 0.30577707],\n",
              "       [0.12899269, 0.5652302 , 0.30577707],\n",
              "       [0.12899269, 0.5652302 , 0.30577707],\n",
              "       [0.12899269, 0.5652302 , 0.30577707],\n",
              "       [0.12899269, 0.5652302 , 0.30577707],\n",
              "       [0.12899269, 0.5652302 , 0.30577707],\n",
              "       [0.12899269, 0.5652302 , 0.30577707],\n",
              "       [0.12899269, 0.5652302 , 0.30577707],\n",
              "       [0.12899269, 0.5652302 , 0.30577707],\n",
              "       [0.12899269, 0.5652302 , 0.30577707],\n",
              "       [0.12899269, 0.5652302 , 0.30577707],\n",
              "       [0.12899269, 0.5652302 , 0.30577707],\n",
              "       [0.12899269, 0.5652302 , 0.30577707],\n",
              "       [0.12899269, 0.5652302 , 0.30577707],\n",
              "       [0.12899269, 0.5652302 , 0.30577707],\n",
              "       [0.12899269, 0.5652302 , 0.30577707],\n",
              "       [0.12899269, 0.5652302 , 0.30577707],\n",
              "       [0.12899269, 0.5652302 , 0.30577707],\n",
              "       [0.12899269, 0.5652302 , 0.30577707],\n",
              "       [0.12899269, 0.5652302 , 0.30577707],\n",
              "       [0.12899269, 0.5652302 , 0.30577707],\n",
              "       [0.12899269, 0.5652302 , 0.30577707],\n",
              "       [0.12899269, 0.5652302 , 0.30577707],\n",
              "       [0.12899269, 0.5652302 , 0.30577707],\n",
              "       [0.12899269, 0.5652302 , 0.30577707],\n",
              "       [0.40964255, 0.14369059, 0.44666684],\n",
              "       [0.40964255, 0.14369059, 0.44666684]], dtype=float32)"
            ]
          },
          "metadata": {},
          "execution_count": 68
        }
      ]
    },
    {
      "cell_type": "code",
      "source": [
        "plt.figure(figsize=(8, 6))\n",
        "plt.stackplot(range(len(probs)), probs.T, labels=['L', 'D', 'W'])\n",
        "plt.title('Win Probability')\n",
        "plt.xlabel('Time')\n",
        "plt.ylabel('Percentage')\n",
        "plt.legend()\n",
        "plt.show()"
      ],
      "metadata": {
        "colab": {
          "base_uri": "https://localhost:8080/",
          "height": 564
        },
        "id": "T-JmoP51L04p",
        "outputId": "d1c9fafb-9b26-480f-8a8f-a0a630474488"
      },
      "execution_count": null,
      "outputs": [
        {
          "output_type": "display_data",
          "data": {
            "text/plain": [
              "<Figure size 800x600 with 1 Axes>"
            ],
            "image/png": "[encoded data removed]"
          },
          "metadata": {}
        }
      ]
    },
    {
      "cell_type": "code",
      "source": [],
      "metadata": {
        "id": "ys6JqE_6L4I7"
      },
      "execution_count": null,
      "outputs": []
    }
  ]
}
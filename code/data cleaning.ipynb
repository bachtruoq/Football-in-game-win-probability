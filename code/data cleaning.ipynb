{
 "cells": [
  {
   "cell_type": "code",
   "execution_count": 1,
   "id": "7c96fdad-1cee-46df-bfc5-e06899a7b247",
   "metadata": {},
   "outputs": [],
   "source": [
    "import os\n",
    "import random\n",
    "import pandas as pd"
   ]
  },
  {
   "cell_type": "code",
   "execution_count": 2,
   "id": "70591a07-fcf1-47de-8c83-79ffcc8267f4",
   "metadata": {},
   "outputs": [],
   "source": [
    "folder_path = 'D:/hust/20231/ds/project/data/match'\n",
    "match_list = os.listdir(folder_path)"
   ]
  },
  {
   "cell_type": "code",
   "execution_count": 3,
   "id": "6aa3cf17-a51a-4933-813c-f43f246be008",
   "metadata": {},
   "outputs": [
    {
     "data": {
      "text/plain": [
       "1900"
      ]
     },
     "execution_count": 3,
     "metadata": {},
     "output_type": "execute_result"
    }
   ],
   "source": [
    "random.shuffle(match_list)\n",
    "len(match_list)"
   ]
  },
  {
   "cell_type": "code",
   "execution_count": 4,
   "id": "727890b4-00b7-4980-93d0-38154c22b192",
   "metadata": {},
   "outputs": [
    {
     "name": "stdout",
     "output_type": "stream",
     "text": [
      "1520\n",
      "380\n"
     ]
    }
   ],
   "source": [
    "train_list = match_list[:-(len(match_list)//5)]\n",
    "test_list = match_list[-len(match_list)//5:]\n",
    "print(len(train_list))\n",
    "print(len(test_list))"
   ]
  },
  {
   "cell_type": "code",
   "execution_count": 5,
   "id": "e4e2924d-1fa6-4b7b-95e0-c45c68dfa010",
   "metadata": {},
   "outputs": [],
   "source": [
    "train_folder = 'D:/hust/20231/ds/project/data/train'\n",
    "train_full = pd.DataFrame()"
   ]
  },
  {
   "cell_type": "code",
   "execution_count": 6,
   "id": "25423ca2-b33d-4f40-8323-0d29c7e5a7a5",
   "metadata": {},
   "outputs": [],
   "source": [
    "for match_path in train_list:\n",
    "    match_data = pd.read_csv(os.path.join(folder_path, match_path))\n",
    "    \n",
    "    drop_attributes = [\n",
    "    'short_pass', 'long_pass', 'cross', 'shot_6_yard_box', 'shot_penalty_box',\n",
    "    'shot_open_play', 'shot_fast_break', 'dispossessed', 'turnover', 'duel',\n",
    "    'tackle', 'interception', 'clearance', 'offside', 'yellow'\n",
    "    ]\n",
    "    match_data = match_data.drop(drop_attributes, axis=1)\n",
    "\n",
    "    new_match_data = pd.DataFrame()\n",
    "    min_cnt = 0\n",
    "    half_cnt = 1\n",
    "    for ind, state in match_data.iterrows():\n",
    "        minute = state['minute']\n",
    "        half = state['half']\n",
    "        if half > 2 or minute > 107:\n",
    "            continue\n",
    "        while min_cnt != minute:\n",
    "            if half_cnt != half:\n",
    "                half_cnt += 1\n",
    "                min_cnt = 45\n",
    "                continue\n",
    "            new_state = new_match_data.iloc[-1].copy()\n",
    "            new_state['minute'] = min_cnt\n",
    "            new_match_data = pd.concat([new_match_data, pd.DataFrame([new_state.copy()])], ignore_index = True)\n",
    "            train_full = pd.concat([train_full, pd.DataFrame([new_state.copy()])], ignore_index = True)\n",
    "            min_cnt += 1\n",
    "        new_match_data = pd.concat([new_match_data, pd.DataFrame([state.copy()])], ignore_index = True)\n",
    "        train_full = pd.concat([train_full, pd.DataFrame([state.copy()])], ignore_index = True)\n",
    "        min_cnt += 1\n",
    "    new_match_data.to_csv(os.path.join(train_folder, 'match', match_path), index=False)"
   ]
  },
  {
   "cell_type": "code",
   "execution_count": 7,
   "id": "990d1162-5ee7-4dfd-a9df-6e20144f90a4",
   "metadata": {},
   "outputs": [],
   "source": [
    "train_full.to_csv(os.path.join(train_folder, 'data.csv'), index=False)"
   ]
  },
  {
   "cell_type": "code",
   "execution_count": 8,
   "id": "0dcba0ac-49e6-47ba-a987-d63e990bdb43",
   "metadata": {},
   "outputs": [],
   "source": [
    "test_folder = 'D:/hust/20231/ds/project/data/test'\n",
    "test_full = pd.DataFrame()"
   ]
  },
  {
   "cell_type": "code",
   "execution_count": 9,
   "id": "a452bb33-365a-4727-9517-2f324a0a1ee1",
   "metadata": {},
   "outputs": [],
   "source": [
    "for match_path in test_list:\n",
    "    match_data = pd.read_csv(os.path.join(folder_path, match_path))\n",
    "    \n",
    "    drop_attributes = [\n",
    "    'short_pass', 'long_pass', 'cross', 'shot_6_yard_box', 'shot_penalty_box',\n",
    "    'shot_open_play', 'shot_fast_break', 'dispossessed', 'turnover', 'duel',\n",
    "    'tackle', 'interception', 'clearance', 'offside', 'yellow'\n",
    "    ]\n",
    "    match_data = match_data.drop(drop_attributes, axis=1)\n",
    "\n",
    "    new_match_data = pd.DataFrame()\n",
    "    min_cnt = 0\n",
    "    half_cnt = 1\n",
    "    for ind, state in match_data.iterrows():\n",
    "        minute = state['minute']\n",
    "        half = state['half']\n",
    "        if half > 2 or minute > 107:\n",
    "            continue\n",
    "        while min_cnt != minute:\n",
    "            if half_cnt != half:\n",
    "                half_cnt += 1\n",
    "                min_cnt = 45\n",
    "                continue\n",
    "            new_state = new_match_data.iloc[-1].copy()\n",
    "            new_state['minute'] = min_cnt\n",
    "            new_match_data = pd.concat([new_match_data, pd.DataFrame([new_state.copy()])], ignore_index = True)\n",
    "            test_full = pd.concat([test_full, pd.DataFrame([new_state.copy()])], ignore_index = True)\n",
    "            min_cnt += 1\n",
    "        new_match_data = pd.concat([new_match_data, pd.DataFrame([state.copy()])], ignore_index = True)\n",
    "        test_full = pd.concat([test_full, pd.DataFrame([state.copy()])], ignore_index = True)\n",
    "        min_cnt += 1\n",
    "    new_match_data.to_csv(os.path.join(test_folder, 'match', match_path), index=False)"
   ]
  },
  {
   "cell_type": "code",
   "execution_count": 10,
   "id": "a25ab3da-d98d-47af-bac6-a597bd221d16",
   "metadata": {},
   "outputs": [],
   "source": [
    "test_full.to_csv(os.path.join(test_folder, 'data.csv'), index=False)"
   ]
  }
 ],
 "metadata": {
  "kernelspec": {
   "display_name": "Python 3 (ipykernel)",
   "language": "python",
   "name": "python3"
  },
  "language_info": {
   "codemirror_mode": {
    "name": "ipython",
    "version": 3
   },
   "file_extension": ".py",
   "mimetype": "text/x-python",
   "name": "python",
   "nbconvert_exporter": "python",
   "pygments_lexer": "ipython3",
   "version": "3.11.2"
  }
 },
 "nbformat": 4,
 "nbformat_minor": 5
}
